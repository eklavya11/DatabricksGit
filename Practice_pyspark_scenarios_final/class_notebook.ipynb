{
 "cells": [
  {
   "cell_type": "code",
   "execution_count": 0,
   "metadata": {
    "application/vnd.databricks.v1+cell": {
     "cellMetadata": {
      "byteLimit": 2048000,
      "rowLimit": 10000
     },
     "inputWidgets": {},
     "nuid": "29cc7a49-a922-4a0c-9522-9e4596227410",
     "showTitle": false,
     "tableResultSettingsMap": {},
     "title": ""
    }
   },
   "outputs": [],
   "source": [
    "from pyspark.sql.functions import *\n",
    "from pyspark.sql.window import Window\n",
    "\n",
    "class DataValidation:\n",
    "\n",
    "    def __init__(self,df):\n",
    "        self.df = df\n",
    "\n",
    "    def deduplicate(self,idCol,cdcCol):\n",
    "        dedup = Window.partitionBy(idCol).orderBy(col(cdcCol).desc())\n",
    "        df = self.df.withColumn(\"dedup\",row_number().over(dedup))\n",
    "        df=df.filter(col(\"dedup\")==1).drop(col(\"dedup\"))\n",
    "        return df\n",
    "    \n",
    "    def removeNulls(self,nullCol):\n",
    "        df = self.df.filter(col(nullCol).isNotNull())\n",
    "        return df"
   ]
  },
  {
   "cell_type": "code",
   "execution_count": 0,
   "metadata": {
    "application/vnd.databricks.v1+cell": {
     "cellMetadata": {
      "byteLimit": 2048000,
      "rowLimit": 10000
     },
     "inputWidgets": {},
     "nuid": "0762141c-dd42-4ef6-a7ba-1a24426dbd05",
     "showTitle": false,
     "tableResultSettingsMap": {},
     "title": ""
    }
   },
   "outputs": [],
   "source": [
    "from pyspark.sql.types import *"
   ]
  },
  {
   "cell_type": "code",
   "execution_count": 0,
   "metadata": {
    "application/vnd.databricks.v1+cell": {
     "cellMetadata": {
      "byteLimit": 2048000,
      "rowLimit": 10000
     },
     "inputWidgets": {},
     "nuid": "78d70ae0-8709-4565-922c-6f59cdd9b438",
     "showTitle": false,
     "tableResultSettingsMap": {},
     "title": ""
    }
   },
   "outputs": [],
   "source": [
    "data = [\n",
    "    (1,5000,\"10-07-2025\"),(2,6000,\"15-07-2025\"),(3,8000,\"13-07-2025\"),(1,9000,\"12-07-2025\"),(4,5000,None)\n",
    "]\n",
    "\n",
    "d_schema = StructType([\n",
    "    StructField(\"id\",IntegerType()),\n",
    "    StructField(\"amount\",DoubleType()),\n",
    "    StructField(\"process_date\",StringType())\n",
    "])\n",
    "\n",
    "df = spark.createDataFrame(data,d_schema).withColumn(\"process_date\",to_date(col(\"process_date\"),\"dd-mm-yyyy\"))\n",
    "\n",
    "display(df)"
   ]
  },
  {
   "cell_type": "code",
   "execution_count": 0,
   "metadata": {
    "application/vnd.databricks.v1+cell": {
     "cellMetadata": {
      "byteLimit": 2048000,
      "rowLimit": 10000
     },
     "inputWidgets": {},
     "nuid": "0b82fc44-c425-4e6f-b648-b0d717fd3143",
     "showTitle": false,
     "tableResultSettingsMap": {},
     "title": ""
    }
   },
   "outputs": [],
   "source": [
    "dv = DataValidation(df)\n",
    "\n",
    "df = dv.deduplicate(\"id\",\"process_date\")\n",
    "df = dv.removeNulls(\"process_date\")\n",
    "display(df)"
   ]
  }
 ],
 "metadata": {
  "application/vnd.databricks.v1+notebook": {
   "computePreferences": null,
   "dashboards": [],
   "environmentMetadata": {
    "base_environment": "",
    "environment_version": "3"
   },
   "inputWidgetPreferences": null,
   "language": "python",
   "notebookMetadata": {
    "pythonIndentUnit": 4
   },
   "notebookName": "class_notebook",
   "widgets": {}
  },
  "language_info": {
   "name": "python"
  }
 },
 "nbformat": 4,
 "nbformat_minor": 0
}
