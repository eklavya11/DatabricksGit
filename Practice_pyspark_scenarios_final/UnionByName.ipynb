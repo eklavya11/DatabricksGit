{
 "cells": [
  {
   "cell_type": "code",
   "execution_count": 0,
   "metadata": {
    "application/vnd.databricks.v1+cell": {
     "cellMetadata": {},
     "inputWidgets": {},
     "nuid": "154a0547-58f6-4f8c-b1a1-8ebc38498b94",
     "showTitle": false,
     "tableResultSettingsMap": {},
     "title": ""
    }
   },
   "outputs": [],
   "source": [
    "from pyspark.sql.functions import lit\n",
    "\n",
    "# Get superset of all columns\n",
    "all_cols = list(set(dfA.columns) | set(dfB.columns) | set(dfC.columns))\n",
    "\n",
    "# Add missing columns with nulls\n",
    "def add_missing_cols(df, all_cols):\n",
    "    for c in all_cols:\n",
    "        if c not in df.columns:\n",
    "            df = df.withColumn(c, lit(None))\n",
    "    return df.select(all_cols)  # reorder\n",
    "\n",
    "dfA2 = add_missing_cols(dfA, all_cols)\n",
    "dfB2 = add_missing_cols(dfB, all_cols)\n",
    "dfC2 = add_missing_cols(dfC, all_cols)\n",
    "\n",
    "# Now union works fine\n",
    "df = dfA2.union(dfB2).union(dfC2)\n"
   ]
  }
 ],
 "metadata": {
  "application/vnd.databricks.v1+notebook": {
   "computePreferences": null,
   "dashboards": [],
   "environmentMetadata": {
    "base_environment": "",
    "environment_version": "3"
   },
   "inputWidgetPreferences": null,
   "language": "python",
   "notebookMetadata": {
    "pythonIndentUnit": 4
   },
   "notebookName": "UnionByName",
   "widgets": {}
  },
  "language_info": {
   "name": "python"
  }
 },
 "nbformat": 4,
 "nbformat_minor": 0
}
