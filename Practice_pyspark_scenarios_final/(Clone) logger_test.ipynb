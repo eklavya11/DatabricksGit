{
 "cells": [
  {
   "cell_type": "code",
   "execution_count": 0,
   "metadata": {
    "application/vnd.databricks.v1+cell": {
     "cellMetadata": {
      "byteLimit": 2048000,
      "rowLimit": 10000
     },
     "inputWidgets": {},
     "nuid": "5b37bfb1-c578-4623-9743-252451d0345a",
     "showTitle": false,
     "tableResultSettingsMap": {},
     "title": ""
    }
   },
   "outputs": [],
   "source": [
    "# Step 1: Import modules\n",
    "import logging\n",
    "\n",
    "# Step 2: Configure logger\n",
    "logger = logging.getLogger(\"ETLJob\")\n",
    "logger.setLevel(logging.INFO)\n",
    "\n",
    "# Step 3: Add a stream handler (so logs appear in notebook / job output)\n",
    "if not logger.handlers:\n",
    "    handler = logging.StreamHandler()\n",
    "    formatter = logging.Formatter('%(asctime)s - %(levelname)s - %(message)s')\n",
    "    handler.setFormatter(formatter)\n",
    "    logger.addHandler(handler)\n",
    "\n",
    "# Step 4: Start logging\n",
    "logger.info(\"Logger initialized successfully\")\n"
   ]
  },
  {
   "cell_type": "code",
   "execution_count": 0,
   "metadata": {
    "application/vnd.databricks.v1+cell": {
     "cellMetadata": {
      "byteLimit": 2048000,
      "rowLimit": 10000
     },
     "inputWidgets": {},
     "nuid": "08d78b5b-fd23-44bb-a61d-5893924e9593",
     "showTitle": false,
     "tableResultSettingsMap": {},
     "title": ""
    }
   },
   "outputs": [],
   "source": [
    "from pyspark.sql import SparkSession\n",
    "from pyspark.sql.functions import *\n",
    "spark = SparkSession.builder.getOrCreate()\n",
    "\n",
    "logger.info(\"Reading sample Delta table\")\n",
    "try:\n",
    "    # Example Delta table (replace with your path)\n",
    "    df = spark.read.table(\"bronze.contracts.contract_final\")\n",
    "    logger.info(f\"Number of records: {df.count()}\")\n",
    "except Exception as e:\n",
    "    logger.error(f\"Failed to read Delta table: {e}\")\n",
    "    raise\n",
    "df = df.groupBy(\"status\").agg(count(\"*\").alias(\"count\"))\n",
    "display(df)\n",
    "logger.info(\"Notebook execution completed successfully\")\n"
   ]
  }
 ],
 "metadata": {
  "application/vnd.databricks.v1+notebook": {
   "computePreferences": {
    "hardware": {
     "accelerator": null,
     "gpuPoolId": null,
     "memory": null
    }
   },
   "dashboards": [],
   "environmentMetadata": {
    "base_environment": "",
    "environment_version": "4"
   },
   "inputWidgetPreferences": null,
   "language": "python",
   "notebookMetadata": {
    "mostRecentlyExecutedCommandWithImplicitDF": {
     "commandId": 8791136605780387,
     "dataframes": [
      "_sqldf"
     ]
    },
    "pythonIndentUnit": 4
   },
   "notebookName": "(Clone) logger_test",
   "widgets": {}
  },
  "language_info": {
   "name": "python"
  }
 },
 "nbformat": 4,
 "nbformat_minor": 0
}
