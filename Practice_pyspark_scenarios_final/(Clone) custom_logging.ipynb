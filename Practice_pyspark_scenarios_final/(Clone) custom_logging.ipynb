{
 "cells": [
  {
   "cell_type": "code",
   "execution_count": 0,
   "metadata": {
    "application/vnd.databricks.v1+cell": {
     "cellMetadata": {
      "byteLimit": 2048000,
      "rowLimit": 10000
     },
     "inputWidgets": {},
     "nuid": "b1d7d8c1-d5b8-4f5b-b545-30b56f0fb326",
     "showTitle": false,
     "tableResultSettingsMap": {},
     "title": ""
    }
   },
   "outputs": [],
   "source": [
    "import logging\n",
    "import time\n",
    "from datetime import datetime\n",
    "from pyspark.sql import Row\n",
    "\n",
    "log_records = []\n",
    "\n",
    "class DeltaLogHandler(logging.Handler):\n",
    "    def emit(self, record):\n",
    "        log_records.append(Row(\n",
    "            id = 1234,\n",
    "            timestamp=str(datetime.now()),\n",
    "            level=record.levelname,\n",
    "            message=record.getMessage()\n",
    "        ))\n",
    "\n",
    "# Initialize logger\n",
    "logger = logging.getLogger(\"ETLLogger\")\n",
    "logger.setLevel(logging.INFO)\n",
    "\n",
    "if logger.hasHandlers():\n",
    "    logger.handlers.clear()\n",
    "\n",
    "logger.addHandler(logging.StreamHandler())\n",
    "logger.addHandler(DeltaLogHandler())\n",
    "\n",
    "notebook_name = dbutils.notebook.entry_point.getDbutils().notebook().getContext().notebookPath().get()\n",
    "logger.info(f\"{notebook_name} notebook is being used\")\n",
    "logger.info(\"logger initialized successfully\")"
   ]
  },
  {
   "cell_type": "code",
   "execution_count": 0,
   "metadata": {
    "application/vnd.databricks.v1+cell": {
     "cellMetadata": {
      "byteLimit": 2048000,
      "rowLimit": 10000
     },
     "inputWidgets": {},
     "nuid": "e04710b1-a4d6-47a0-8b45-36603b58b3c1",
     "showTitle": false,
     "tableResultSettingsMap": {},
     "title": ""
    }
   },
   "outputs": [],
   "source": [
    "logger.info(\"Starting to create dataframe\")\n",
    "data = [(1,\"Eklavya\",200000),(2,\"Rohan\",300000),(3,\"Ryan\",400000)]\n",
    "\n",
    "schema = [\"id\",\"Name\",\"Salary\"]\n",
    "\n",
    "df = spark.createDataFrame(data,schema)\n",
    "logger.info(\"Dataframe is created\")\n",
    "try:\n",
    "    df.withColumn(\"test\",24)\n",
    "except Exception as e:\n",
    "    logger.error(e)\n"
   ]
  },
  {
   "cell_type": "code",
   "execution_count": 0,
   "metadata": {
    "application/vnd.databricks.v1+cell": {
     "cellMetadata": {
      "byteLimit": 2048000,
      "rowLimit": 10000
     },
     "inputWidgets": {},
     "nuid": "8db1ae85-ee92-43fe-b107-faf333d406ed",
     "showTitle": false,
     "tableResultSettingsMap": {},
     "title": ""
    }
   },
   "outputs": [],
   "source": [
    "df_logs = spark.createDataFrame(log_records)\n",
    "df_logs.write.mode(\"append\").saveAsTable(\"pyspark_cata.source.etl_logs\")"
   ]
  },
  {
   "cell_type": "code",
   "execution_count": 0,
   "metadata": {
    "application/vnd.databricks.v1+cell": {
     "cellMetadata": {
      "byteLimit": 2048000,
      "implicitDf": true,
      "rowLimit": 10000
     },
     "inputWidgets": {},
     "nuid": "3d63614b-b02c-4ea6-aaf9-4033c94f8b3c",
     "showTitle": false,
     "tableResultSettingsMap": {},
     "title": ""
    }
   },
   "outputs": [],
   "source": [
    "%sql\n",
    "select * from pyspark_cata.source.etl_logs"
   ]
  }
 ],
 "metadata": {
  "application/vnd.databricks.v1+notebook": {
   "computePreferences": {
    "hardware": {
     "accelerator": null,
     "gpuPoolId": null,
     "memory": null
    }
   },
   "dashboards": [],
   "environmentMetadata": {
    "base_environment": "",
    "environment_version": "4"
   },
   "inputWidgetPreferences": null,
   "language": "python",
   "notebookMetadata": {
    "mostRecentlyExecutedCommandWithImplicitDF": {
     "commandId": 5667036740436766,
     "dataframes": [
      "_sqldf"
     ]
    },
    "pythonIndentUnit": 4
   },
   "notebookName": "(Clone) custom_logging",
   "widgets": {}
  },
  "language_info": {
   "name": "python"
  }
 },
 "nbformat": 4,
 "nbformat_minor": 0
}
