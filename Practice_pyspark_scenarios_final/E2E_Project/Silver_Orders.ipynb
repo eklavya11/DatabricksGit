{
 "cells": [
  {
   "cell_type": "code",
   "execution_count": 0,
   "metadata": {
    "application/vnd.databricks.v1+cell": {
     "cellMetadata": {
      "byteLimit": 2048000,
      "rowLimit": 10000
     },
     "inputWidgets": {},
     "nuid": "699b5ac1-ce6a-4087-ac07-bfa1d9a1df01",
     "showTitle": false,
     "tableResultSettingsMap": {},
     "title": ""
    }
   },
   "outputs": [],
   "source": [
    "df = spark.read.format(\"parquet\").load(\"abfss://bronze@eklavyadatabricks.dfs.core.windows.net/orders\")"
   ]
  },
  {
   "cell_type": "code",
   "execution_count": 0,
   "metadata": {
    "application/vnd.databricks.v1+cell": {
     "cellMetadata": {
      "byteLimit": 2048000,
      "rowLimit": 10000
     },
     "inputWidgets": {},
     "nuid": "1f8c94ec-27f3-4ccc-a583-201c268b8909",
     "showTitle": false,
     "tableResultSettingsMap": {
      "0": {
       "dataGridStateBlob": "{\"version\":1,\"tableState\":{\"columnPinning\":{\"left\":[\"#row_number#\"],\"right\":[]},\"columnSizing\":{},\"columnVisibility\":{}},\"settings\":{\"columns\":{}},\"syncTimestamp\":1753775454548}",
       "filterBlob": null,
       "queryPlanFiltersBlob": null,
       "tableResultIndex": 0
      }
     },
     "title": ""
    }
   },
   "outputs": [],
   "source": [
    "from pyspark.sql.functions import to_timestamp,col,year,dense_rank,rank,row_number\n",
    "from pyspark.sql.window import Window\n",
    "\n",
    "df = df.withColumnRenamed(\"_rescued_data\",\"rescued_data\")\n",
    "df = df.drop(\"rescued_data\")\n",
    "df = df.withColumn(\"order_date\",to_timestamp(col(\"order_date\")))\n",
    "df = df.withColumn(\"year\",year(col(\"order_date\")))\n",
    "\n",
    "\n",
    "rnk = Window.partitionBy(\"year\").orderBy(col(\"total_amount\").desc())\n",
    "df1 = df.withColumn(\"flag\",dense_rank().over(rnk))\n",
    "df1 = df1.withColumn(\"rank_flag\",rank().over(rnk))\n",
    "df1 = df1.withColumn(\"row_flag\",row_number().over(rnk))\n",
    "\n",
    "display(df1)"
   ]
  },
  {
   "cell_type": "markdown",
   "metadata": {
    "application/vnd.databricks.v1+cell": {
     "cellMetadata": {},
     "inputWidgets": {},
     "nuid": "7e2347f7-a534-4b9a-8564-159fbed40ac4",
     "showTitle": false,
     "tableResultSettingsMap": {},
     "title": ""
    }
   },
   "source": [
    "## CLASSES - OOP\n"
   ]
  },
  {
   "cell_type": "code",
   "execution_count": 0,
   "metadata": {
    "application/vnd.databricks.v1+cell": {
     "cellMetadata": {
      "byteLimit": 2048000,
      "rowLimit": 10000
     },
     "inputWidgets": {},
     "nuid": "94031653-1279-4067-a19a-09850dbfe703",
     "showTitle": false,
     "tableResultSettingsMap": {},
     "title": ""
    }
   },
   "outputs": [],
   "source": [
    "class Windows:\n",
    "    rnk = Window.partitionBy(\"year\").orderBy(col(\"total_amount\").desc())\n",
    "    def dense_rank(self,df):\n",
    "        return df.withColumn(\"flag\",dense_rank().over(rnk))\n",
    "    def rank(self,df):\n",
    "        return df.withColumn(\"rank_flag\",rank().over(rnk))\n",
    "    def row_number(self,df):\n",
    "        return df.withColumn(\"row_flag\",row_number().over(rnk))\n"
   ]
  },
  {
   "cell_type": "code",
   "execution_count": 0,
   "metadata": {
    "application/vnd.databricks.v1+cell": {
     "cellMetadata": {
      "byteLimit": 2048000,
      "rowLimit": 10000
     },
     "inputWidgets": {},
     "nuid": "7ae6cdf6-322a-487e-b8d3-9489a0adacf0",
     "showTitle": false,
     "tableResultSettingsMap": {},
     "title": ""
    }
   },
   "outputs": [],
   "source": [
    "df_test = df\n",
    "w = Windows()\n",
    "df_result=w.dense_rank(df_test)\n",
    "display(df_result)"
   ]
  },
  {
   "cell_type": "code",
   "execution_count": 0,
   "metadata": {
    "application/vnd.databricks.v1+cell": {
     "cellMetadata": {
      "byteLimit": 2048000,
      "rowLimit": 10000
     },
     "inputWidgets": {},
     "nuid": "a86ab8f3-91b1-4d0c-8db6-e0bffbefec51",
     "showTitle": false,
     "tableResultSettingsMap": {},
     "title": ""
    }
   },
   "outputs": [],
   "source": [
    "display(df)"
   ]
  },
  {
   "cell_type": "code",
   "execution_count": 0,
   "metadata": {
    "application/vnd.databricks.v1+cell": {
     "cellMetadata": {
      "byteLimit": 2048000,
      "rowLimit": 10000
     },
     "inputWidgets": {},
     "nuid": "b31c88ea-e2f0-4a53-b351-a856d368d77e",
     "showTitle": false,
     "tableResultSettingsMap": {},
     "title": ""
    }
   },
   "outputs": [],
   "source": [
    "df.write.format(\"delta\").mode(\"overwrite\").save(\"abfss://silver@eklavyadatabricks.dfs.core.windows.net/orders\")"
   ]
  },
  {
   "cell_type": "code",
   "execution_count": 0,
   "metadata": {
    "application/vnd.databricks.v1+cell": {
     "cellMetadata": {
      "byteLimit": 2048000,
      "implicitDf": true,
      "rowLimit": 10000
     },
     "inputWidgets": {},
     "nuid": "e2ba435f-73e9-4cc3-ae6c-1bf8b68f530d",
     "showTitle": false,
     "tableResultSettingsMap": {},
     "title": ""
    }
   },
   "outputs": [],
   "source": [
    "%sql\n",
    "CREATE TABLE IF NOT EXISTS databricks_cata.silver.orders\n",
    "USING DELTA\n",
    "LOCATION 'abfss://silver@eklavyadatabricks.dfs.core.windows.net/orders'"
   ]
  }
 ],
 "metadata": {
  "application/vnd.databricks.v1+notebook": {
   "computePreferences": null,
   "dashboards": [],
   "environmentMetadata": {
    "base_environment": "",
    "environment_version": "2"
   },
   "inputWidgetPreferences": null,
   "language": "python",
   "notebookMetadata": {
    "mostRecentlyExecutedCommandWithImplicitDF": {
     "commandId": 7178867937752067,
     "dataframes": [
      "_sqldf"
     ]
    },
    "pythonIndentUnit": 4
   },
   "notebookName": "Silver_Orders",
   "widgets": {}
  },
  "language_info": {
   "name": "python"
  }
 },
 "nbformat": 4,
 "nbformat_minor": 0
}
