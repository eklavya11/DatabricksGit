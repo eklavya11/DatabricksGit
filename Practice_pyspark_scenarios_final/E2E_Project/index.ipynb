{
 "cells": [
  {
   "cell_type": "markdown",
   "metadata": {
    "application/vnd.databricks.v1+cell": {
     "cellMetadata": {},
     "inputWidgets": {},
     "nuid": "0a469440-117c-4374-ba90-354abcf537d8",
     "showTitle": false,
     "tableResultSettingsMap": {},
     "title": ""
    }
   },
   "source": [
    "#### <a href=\"Bronze_Layer.html\">Bronze_Layer</a>\n",
    "#### <a href=\"Gold_Customers.html\">Gold_Customers</a>\n",
    "#### <a href=\"Gold_Products.html\">Gold_Products</a>\n",
    "#### <a href=\"Silver_Orders.html\">Silver_Orders</a>\n",
    "#### <a href=\"Silver_Regions.html\">Silver_Regions</a>\n",
    "#### <a href=\"index.html\">index</a>\n",
    "#### <a href=\"parameters.html\">parameters</a>\n",
    "#### <a href=\"silver_customers.html\">silver_customers</a>\n",
    "#### <a href=\"silver_products.html\">silver_products</a>"
   ]
  }
 ],
 "metadata": {
  "application/vnd.databricks.v1+notebook": {
   "computePreferences": null,
   "dashboards": [],
   "environmentMetadata": null,
   "inputWidgetPreferences": null,
   "language": "python",
   "notebookMetadata": {},
   "notebookName": "index",
   "widgets": {}
  },
  "language_info": {
   "name": "python"
  }
 },
 "nbformat": 4,
 "nbformat_minor": 0
}
