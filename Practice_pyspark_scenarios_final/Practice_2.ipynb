{
 "cells": [
  {
   "cell_type": "code",
   "execution_count": 0,
   "metadata": {
    "application/vnd.databricks.v1+cell": {
     "cellMetadata": {
      "byteLimit": 2048000,
      "rowLimit": 10000
     },
     "inputWidgets": {},
     "nuid": "325d7ed4-5736-437f-9fcb-2d82aee2ebb6",
     "showTitle": false,
     "tableResultSettingsMap": {},
     "title": ""
    }
   },
   "outputs": [],
   "source": [
    "data = [\n",
    "  {\n",
    "    \"id\": 1,\n",
    "    \"contract_name\": \"Contract A\",\n",
    "    \"client_name\": \"Client X\",\n",
    "    \"services\": [\"Consulting\", \"Support\", \"Maintenance\"]\n",
    "  },\n",
    "  {\n",
    "    \"id\": 2,\n",
    "    \"contract_name\": \"Contract B\",\n",
    "    \"client_name\": \"Client Y\",\n",
    "    \"services\": [\"Implementation\", \"Training\"]\n",
    "  },\n",
    "  {\n",
    "    \"id\": 3,\n",
    "    \"contract_name\": \"Contract C\",\n",
    "    \"client_name\": \"Client Z\",\n",
    "    \"services\": []\n",
    "  }\n",
    "]\n",
    "\n",
    "df = spark.createDataFrame(data)\n",
    "df.show()"
   ]
  },
  {
   "cell_type": "code",
   "execution_count": 0,
   "metadata": {
    "application/vnd.databricks.v1+cell": {
     "cellMetadata": {
      "byteLimit": 2048000,
      "rowLimit": 10000
     },
     "inputWidgets": {},
     "nuid": "7ccc5992-019e-40c3-aff3-6a89bc51a54b",
     "showTitle": false,
     "tableResultSettingsMap": {
      "0": {
       "dataGridStateBlob": "{\"version\":1,\"tableState\":{\"columnPinning\":{\"left\":[\"#row_number#\"],\"right\":[]},\"columnSizing\":{\"services\":343},\"columnVisibility\":{}},\"settings\":{\"columns\":{}},\"syncTimestamp\":1757585543540}",
       "filterBlob": null,
       "queryPlanFiltersBlob": null,
       "tableResultIndex": 0
      }
     },
     "title": ""
    }
   },
   "outputs": [],
   "source": [
    "from pyspark.sql.functions import col,explode\n",
    "df1 = df.withColumn(\"service\",explode(col(\"services\")))\n",
    "df1.display()"
   ]
  },
  {
   "cell_type": "code",
   "execution_count": 0,
   "metadata": {
    "application/vnd.databricks.v1+cell": {
     "cellMetadata": {
      "byteLimit": 2048000,
      "rowLimit": 10000
     },
     "inputWidgets": {},
     "nuid": "9c0ad1b4-5959-48eb-bc24-10932571b07f",
     "showTitle": false,
     "tableResultSettingsMap": {},
     "title": ""
    }
   },
   "outputs": [],
   "source": [
    "from pyspark.sql.functions import col,posexplode\n",
    "df2 = df.select(\"*\",posexplode(col(\"services\")).alias(\"pos\",\"service\"))\n",
    "df2.display()"
   ]
  }
 ],
 "metadata": {
  "application/vnd.databricks.v1+notebook": {
   "computePreferences": null,
   "dashboards": [],
   "environmentMetadata": {
    "base_environment": "",
    "environment_version": "3"
   },
   "inputWidgetPreferences": null,
   "language": "python",
   "notebookMetadata": {
    "pythonIndentUnit": 4
   },
   "notebookName": "Practice_2",
   "widgets": {}
  },
  "language_info": {
   "name": "python"
  }
 },
 "nbformat": 4,
 "nbformat_minor": 0
}
