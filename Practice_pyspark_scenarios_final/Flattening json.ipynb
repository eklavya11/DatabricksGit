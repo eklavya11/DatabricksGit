{
 "cells": [
  {
   "cell_type": "code",
   "execution_count": 0,
   "metadata": {
    "application/vnd.databricks.v1+cell": {
     "cellMetadata": {
      "byteLimit": 2048000,
      "rowLimit": 10000
     },
     "inputWidgets": {},
     "nuid": "87efa0f4-4d6b-4bff-9d6c-e2e8e17681da",
     "showTitle": false,
     "tableResultSettingsMap": {},
     "title": ""
    }
   },
   "outputs": [],
   "source": [
    "df=spark.read.format(\"json\").option(\"inferschema\",True)\\\n",
    "    .option(\"multiline\", True)\\\n",
    "    .load(\"/Volumes/pyspark_cata/source/db_volume/jsonData/apidata.json\")\n",
    "display(df)\n"
   ]
  },
  {
   "cell_type": "code",
   "execution_count": 0,
   "metadata": {
    "application/vnd.databricks.v1+cell": {
     "cellMetadata": {
      "byteLimit": 2048000,
      "rowLimit": 10000
     },
     "inputWidgets": {},
     "nuid": "a13e13e4-6582-4c47-86f2-5905a7afa7fd",
     "showTitle": false,
     "tableResultSettingsMap": {},
     "title": ""
    }
   },
   "outputs": [],
   "source": [
    "from pyspark.sql.functions import *\n",
    "\n",
    "df = df.select(\"customer.customer_id\",\"customer.name\",\"customer.email\",\"customer.location.city\",\"customer.location.country\",\"*\").drop(\"customer\")\n",
    "\n",
    "df = df.withColumn(\"delivery_updates\",explode(\"delivery_updates\"))\\\n",
    "    .withColumn(\"items\",explode(\"items\"))\\\n",
    "\n",
    "df = df.select(\"*\",\"items.item_id\",\"items.price_per_unit\",\"items.product_name\",\"items.quantity\").drop(\"items\")\n",
    "\n",
    "df = df.select(\"*\",\"payment.amount\",\"payment.currency\",col(\"payment.method\").alias(\"paymemt_method\")).drop(\"payment\")\n",
    "\n",
    "display(df)"
   ]
  },
  {
   "cell_type": "code",
   "execution_count": 0,
   "metadata": {
    "application/vnd.databricks.v1+cell": {
     "cellMetadata": {
      "byteLimit": 2048000,
      "rowLimit": 10000
     },
     "inputWidgets": {},
     "nuid": "1be59d28-2e46-430f-8c15-df6538d796f6",
     "showTitle": false,
     "tableResultSettingsMap": {},
     "title": ""
    }
   },
   "outputs": [],
   "source": [
    "df.distinct().display()"
   ]
  },
  {
   "cell_type": "code",
   "execution_count": 0,
   "metadata": {
    "application/vnd.databricks.v1+cell": {
     "cellMetadata": {
      "byteLimit": 2048000,
      "rowLimit": 10000
     },
     "inputWidgets": {},
     "nuid": "9745ab08-1389-44b8-b75e-6f09f806df40",
     "showTitle": false,
     "tableResultSettingsMap": {},
     "title": ""
    }
   },
   "outputs": [],
   "source": [
    "df.schema"
   ]
  }
 ],
 "metadata": {
  "application/vnd.databricks.v1+notebook": {
   "computePreferences": null,
   "dashboards": [],
   "environmentMetadata": {
    "base_environment": "",
    "environment_version": "3"
   },
   "inputWidgetPreferences": null,
   "language": "python",
   "notebookMetadata": {
    "pythonIndentUnit": 4
   },
   "notebookName": "Flattening json",
   "widgets": {}
  },
  "language_info": {
   "name": "python"
  }
 },
 "nbformat": 4,
 "nbformat_minor": 0
}
