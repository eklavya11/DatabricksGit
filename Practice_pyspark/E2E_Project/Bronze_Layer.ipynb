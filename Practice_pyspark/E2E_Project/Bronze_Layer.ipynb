{
 "cells": [
  {
   "cell_type": "code",
   "execution_count": 0,
   "metadata": {
    "application/vnd.databricks.v1+cell": {
     "cellMetadata": {
      "byteLimit": 2048000,
      "rowLimit": 10000
     },
     "inputWidgets": {},
     "nuid": "51f9d172-03f0-4717-aebf-2fd56570913a",
     "showTitle": false,
     "tableResultSettingsMap": {},
     "title": ""
    }
   },
   "outputs": [],
   "source": [
    "dbutils.widgets.text(\"p_file_name\",\"\")\n",
    "file_name = dbutils.widgets.get(\"p_file_name\")\n",
    "# display(file_name)"
   ]
  },
  {
   "cell_type": "code",
   "execution_count": 0,
   "metadata": {
    "application/vnd.databricks.v1+cell": {
     "cellMetadata": {
      "byteLimit": 2048000,
      "rowLimit": 10000
     },
     "inputWidgets": {},
     "nuid": "70ae1af5-75c7-432f-9bf0-dae4b43cf305",
     "showTitle": false,
     "tableResultSettingsMap": {},
     "title": ""
    }
   },
   "outputs": [],
   "source": [
    "df1 = spark.readStream.format(\"cloudfiles\")\\\n",
    "    .option(\"cloudfiles.format\",\"parquet\")\\\n",
    "    .option(\"cloudfiles.schemaLocation\",f\"abfss://bronze@eklavyadatabricks.dfs.core.windows.net/checkpoint_{file_name}\")\\\n",
    "    .load(f\"abfss://source@eklavyadatabricks.dfs.core.windows.net/{file_name}\")"
   ]
  },
  {
   "cell_type": "code",
   "execution_count": 0,
   "metadata": {
    "application/vnd.databricks.v1+cell": {
     "cellMetadata": {
      "byteLimit": 2048000,
      "rowLimit": 10000
     },
     "inputWidgets": {},
     "nuid": "4a898e77-b5f9-4ca0-a81f-c944c77fb1ab",
     "showTitle": false,
     "tableResultSettingsMap": {},
     "title": ""
    }
   },
   "outputs": [],
   "source": [
    "df1.writeStream.format(\"parquet\")\\\n",
    "    .outputMode(\"append\")\\\n",
    "    .option(\"checkpointLocation\",f\"abfss://bronze@eklavyadatabricks.dfs.core.windows.net/checkpoint_{file_name}\")\\\n",
    "    .option(\"path\",f\"abfss://bronze@eklavyadatabricks.dfs.core.windows.net/{file_name}\")\\\n",
    "    .trigger(once=True)\\\n",
    "    .start()"
   ]
  },
  {
   "cell_type": "code",
   "execution_count": 0,
   "metadata": {
    "application/vnd.databricks.v1+cell": {
     "cellMetadata": {
      "byteLimit": 2048000,
      "rowLimit": 10000
     },
     "inputWidgets": {},
     "nuid": "e715e266-5c1c-43a7-a1a2-6707a0ff76d3",
     "showTitle": false,
     "tableResultSettingsMap": {},
     "title": ""
    }
   },
   "outputs": [],
   "source": [
    "# df= spark.read.format(\"parquet\").load(\"abfss://bronze@eklavyadatabricks.dfs.core.windows.net/orders\")\n",
    "# df2= spark.read.format(\"parquet\").load(\"abfss://source@eklavyadatabricks.dfs.core.windows.net/orders/orders_first.parquet\")\n",
    "# df3= spark.read.format(\"parquet\").load(\"abfss://source@eklavyadatabricks.dfs.core.windows.net/orders/orders_second.parquet\")\n",
    "# display(df.count())\n",
    "# display(df2.count())\n",
    "# display(df3.count())"
   ]
  }
 ],
 "metadata": {
  "application/vnd.databricks.v1+notebook": {
   "computePreferences": null,
   "dashboards": [],
   "environmentMetadata": {
    "base_environment": "",
    "environment_version": "2"
   },
   "inputWidgetPreferences": null,
   "language": "python",
   "notebookMetadata": {
    "pythonIndentUnit": 4
   },
   "notebookName": "Bronze_Layer",
   "widgets": {
    "p_file_name": {
     "currentValue": "products",
     "nuid": "4a1bd720-32ae-44cc-b66c-49a6e1b86900",
     "typedWidgetInfo": {
      "autoCreated": false,
      "defaultValue": "",
      "label": null,
      "name": "p_file_name",
      "options": {
       "widgetDisplayType": "Text",
       "validationRegex": null
      },
      "parameterDataType": "String"
     },
     "widgetInfo": {
      "widgetType": "text",
      "defaultValue": "",
      "label": null,
      "name": "p_file_name",
      "options": {
       "widgetType": "text",
       "autoCreated": null,
       "validationRegex": null
      }
     }
    }
   }
  },
  "language_info": {
   "name": "python"
  }
 },
 "nbformat": 4,
 "nbformat_minor": 0
}
