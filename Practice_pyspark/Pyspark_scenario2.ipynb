{
 "cells": [
  {
   "cell_type": "code",
   "execution_count": 0,
   "metadata": {
    "application/vnd.databricks.v1+cell": {
     "cellMetadata": {
      "byteLimit": 2048000,
      "rowLimit": 10000
     },
     "inputWidgets": {},
     "nuid": "87fef4ff-e190-45ad-a2d3-65c6736bf8a4",
     "showTitle": false,
     "tableResultSettingsMap": {},
     "title": ""
    }
   },
   "outputs": [],
   "source": [
    "spark.read.format(\"csv\").option(\"header\",\"true\").load(\"/Volumes/pyspark_cata/source/db_volume/streamSource/orders_initial.csv\").display()"
   ]
  },
  {
   "cell_type": "code",
   "execution_count": 0,
   "metadata": {
    "application/vnd.databricks.v1+cell": {
     "cellMetadata": {
      "byteLimit": 2048000,
      "rowLimit": 10000
     },
     "inputWidgets": {},
     "nuid": "c47987b8-1068-49b1-9b9c-d376da2ad0f2",
     "showTitle": false,
     "tableResultSettingsMap": {},
     "title": ""
    }
   },
   "outputs": [],
   "source": [
    "from pyspark.sql.types import *\n",
    "\n",
    "orders_schema = StructType([\n",
    "  StructField(\"order_id\",IntegerType(),False),\n",
    "  StructField(\"customer_id\",IntegerType(),False),\n",
    "  StructField(\"order_date\",DateType(),True),\n",
    "  StructField(\"amount\",DoubleType(),True)\n",
    "])"
   ]
  },
  {
   "cell_type": "code",
   "execution_count": 0,
   "metadata": {
    "application/vnd.databricks.v1+cell": {
     "cellMetadata": {
      "byteLimit": 2048000,
      "rowLimit": 10000
     },
     "inputWidgets": {},
     "nuid": "647fd91a-3906-4c9b-86a8-ab7855039a2d",
     "showTitle": false,
     "tableResultSettingsMap": {},
     "title": ""
    }
   },
   "outputs": [],
   "source": [
    "df = spark.readStream.schema(orders_schema).format(\"cloudfiles\").option(\"cloudfiles.format\",\"csv\")\\\n",
    "  .option(\"header\",\"true\")\\\n",
    "  .option(\"cloudfiles.schemaLocation\",\"/Volumes/pyspark_cata/source/db_volume/streamSink/schema/\")\\\n",
    "  .load(\"/Volumes/pyspark_cata/source/db_volume/streamSource/\")"
   ]
  },
  {
   "cell_type": "code",
   "execution_count": 0,
   "metadata": {
    "application/vnd.databricks.v1+cell": {
     "cellMetadata": {
      "byteLimit": 2048000,
      "rowLimit": 10000
     },
     "inputWidgets": {},
     "nuid": "d71a722c-d791-413c-8015-6fe7835d003c",
     "showTitle": false,
     "tableResultSettingsMap": {},
     "title": ""
    }
   },
   "outputs": [],
   "source": [
    "df.writeStream.format(\"delta\")\\\n",
    ".option(\"checkpointLocation\",\"/Volumes/pyspark_cata/source/db_volume/streamSink/checkpoint/\")\\\n",
    "    .option(\"path\",\"/Volumes/pyspark_cata/source/db_volume/streamSink/data/\")\\\n",
    "    .trigger(once=True)\\\n",
    "    .start()"
   ]
  },
  {
   "cell_type": "code",
   "execution_count": 0,
   "metadata": {
    "application/vnd.databricks.v1+cell": {
     "cellMetadata": {
      "byteLimit": 2048000,
      "implicitDf": true,
      "rowLimit": 10000
     },
     "inputWidgets": {},
     "nuid": "b54598d4-baee-4242-bf8c-99d39d9602cc",
     "showTitle": false,
     "tableResultSettingsMap": {},
     "title": ""
    }
   },
   "outputs": [],
   "source": [
    "%sql\n",
    "select * from delta.`/Volumes/pyspark_cata/source/db_volume/streamSink/data/`"
   ]
  }
 ],
 "metadata": {
  "application/vnd.databricks.v1+notebook": {
   "computePreferences": null,
   "dashboards": [],
   "environmentMetadata": {
    "base_environment": "",
    "environment_version": "3"
   },
   "inputWidgetPreferences": null,
   "language": "python",
   "notebookMetadata": {
    "mostRecentlyExecutedCommandWithImplicitDF": {
     "commandId": 5596398980843034,
     "dataframes": [
      "_sqldf"
     ]
    },
    "pythonIndentUnit": 4
   },
   "notebookName": "Pyspark_scenario2",
   "widgets": {}
  },
  "language_info": {
   "name": "python"
  }
 },
 "nbformat": 4,
 "nbformat_minor": 0
}
